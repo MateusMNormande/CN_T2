{
 "cells": [
  {
   "cell_type": "markdown",
   "metadata": {},
   "source": [
    "# Problema:\n",
    "## Medição de pressão numa coluna de um líquido com desidade variável.\n",
    "* Nessa coluna está instalado barômetros medindo a pressão manométrica em 4 pontos diferentes.\n",
    "<img src=\"t.png\">\n",
    "* Mas os engenheiros desejam desejam construir uma tubulação para escoar o líquido a uma profundidade de 2.7 metros abaixo do referencial de altura adotado. Para isso foi feita duas interpolações, com dois métodos diferentes, com os valores já conhecidos para estimar o valor da pressão naquele ponto."
   ]
  },
  {
   "cell_type": "markdown",
   "metadata": {},
   "source": [
    "## Método de Vandermonde"
   ]
  },
  {
   "cell_type": "code",
   "execution_count": 12,
   "metadata": {},
   "outputs": [],
   "source": [
    "import numpy as np\n",
    "from numpy.linalg import inv"
   ]
  },
  {
   "cell_type": "markdown",
   "metadata": {},
   "source": [
    "#####  É importado a biblioteca numpy e um método para calcular a matriz inversa"
   ]
  },
  {
   "cell_type": "code",
   "execution_count": 11,
   "metadata": {},
   "outputs": [
    {
     "name": "stdout",
     "output_type": "stream",
     "text": [
      "Digite a quantida de pontos: 5\n",
      "Digite os valores de x: -3 -1 0 2 3\n",
      "[1.0, -3.0, 9.0, -27.0, 81.0]\n",
      "[1.0, -1.0, 1.0, -1.0, 1.0]\n",
      "[1.0, 0.0, 0.0, 0.0, 0.0]\n",
      "[1.0, 2.0, 4.0, 8.0, 16.0]\n",
      "[1.0, 3.0, 9.0, 27.0, 81.0]\n"
     ]
    }
   ],
   "source": [
    "def matriz_vm(tamanho,valores_x):\n",
    "    '''\n",
    "    Calcula a Matriz de Vandermonde\n",
    "    '''\n",
    "    matriz = []\n",
    "    for i in range(len(valores_x)):\n",
    "        linha = []\n",
    "        for j in range(tamanho):\n",
    "            valor = (valores_x[i])**j #Os valores são elevados ao número da coluna\n",
    "            linha.append(valor)\n",
    "        matriz.append(linha)\n",
    "    return matriz\n",
    "\n",
    "qntd_pontos = int(input(\"Digite a quantida de pontos: \"))\n",
    "valores_x = list(map(float,input(\"Digite os valores de x: \").split()))\n",
    "A = matriz_vm(qntd_pontos,valores_x)\n",
    "A_inv = inv(np.array(A))\n",
    "\n",
    "for i in A:\n",
    "    print(i)"
   ]
  },
  {
   "cell_type": "markdown",
   "metadata": {},
   "source": [
    "#####  A partir dos valores da quantidade de pontos e dos valores de x, foi possível calcular a matriz de Vandermonde"
   ]
  },
  {
   "cell_type": "code",
   "execution_count": 13,
   "metadata": {},
   "outputs": [
    {
     "name": "stdout",
     "output_type": "stream",
     "text": [
      "Digite os valores de y: 35 14 7 0 -0.9\n",
      "35.0\n",
      "14.0\n",
      "7.0\n",
      "0.0\n",
      "-0.9\n"
     ]
    }
   ],
   "source": [
    "valores_y = list(map(float,input(\"Digite os valores de y: \").split()))\n",
    "b = np.array(valores_y) #Transforma os valores de y em um array\n",
    "\n",
    "for i in b:\n",
    "    print(i)"
   ]
  },
  {
   "cell_type": "markdown",
   "metadata": {},
   "source": [
    "#####  Com os valores da função foi possível construir a matriz 'b'"
   ]
  },
  {
   "cell_type": "code",
   "execution_count": 14,
   "metadata": {},
   "outputs": [
    {
     "name": "stdout",
     "output_type": "stream",
     "text": [
      "p(x) = 7.000000 + -5.758333x^1 + 1.229167x^2 + -0.025000x^3 + -0.012500x^4\n"
     ]
    }
   ],
   "source": [
    "def gera_polinomio(coeficientes):\n",
    "    '''\n",
    "    Gera a string do polinomio\n",
    "    '''\n",
    "    polinomio = \"%f + \"%coeficientes[0]\n",
    "    for i in range(1,len(coeficientes)):\n",
    "        if i == len(coeficientes)-1:\n",
    "            polinomio += \"%fx^%i\"%(coeficientes[i],i)\n",
    "        else:\n",
    "            polinomio += \"%fx^%i + \"%(coeficientes[i],i)\n",
    "    return polinomio\n",
    "\n",
    "coeficientes = list(np.dot(A_inv,b)) #Multiplica a inversa pelo vetor dos valores de y\n",
    "polinomio = gera_polinomio(coeficientes)\n",
    "print(\"p(x) = %s\"%polinomio)"
   ]
  },
  {
   "cell_type": "markdown",
   "metadata": {},
   "source": [
    "#####  Multiplicando a inversa de 'A' por 'b', obtemos uma lista de coeficientes que podemos tranformar no polinomio"
   ]
  },
  {
   "cell_type": "code",
   "execution_count": 15,
   "metadata": {},
   "outputs": [
    {
     "name": "stdout",
     "output_type": "stream",
     "text": [
      "Digite o valor a ser interpolado: -2.7\n",
      "p(-2.700000) = 31.335899\n"
     ]
    }
   ],
   "source": [
    "def interpolacao(coeficientes, x):\n",
    "    '''\n",
    "    Calcula o valor a ser interpolado no polinomio\n",
    "    '''\n",
    "    p_x = 0\n",
    "    for i in range(len(coeficientes)):\n",
    "        p_x += coeficientes[i] * (x**i) #Coeficiente multiplicado pelo valor elevado a potência correta\n",
    "    return p_x\n",
    "\n",
    "x = float(input(\"Digite o valor a ser interpolado: \"))\n",
    "p = interpolacao(coeficientes,x)\n",
    "print(\"p(%f) = %f\"%(x,p))"
   ]
  },
  {
   "cell_type": "markdown",
   "metadata": {},
   "source": [
    "##### Aplicando o valor da interpolação no polinomio, calculamos o valor esperado"
   ]
  },
  {
   "cell_type": "markdown",
   "metadata": {},
   "source": [
    "## Metodo de Newton\n",
    "\n",
    "São importadas as bibliotecas que iremos utilizar"
   ]
  },
  {
   "cell_type": "code",
   "execution_count": 16,
   "metadata": {},
   "outputs": [],
   "source": [
    "import numpy as np\n",
    "from numpy.linalg import inv"
   ]
  },
  {
   "cell_type": "markdown",
   "metadata": {},
   "source": [
    "##### É importado a biblioteca numpy"
   ]
  },
  {
   "cell_type": "code",
   "execution_count": 21,
   "metadata": {},
   "outputs": [
    {
     "name": "stdout",
     "output_type": "stream",
     "text": [
      "Digite a quantida de pontos: 5\n",
      "Digite os valores de y: 35 14 7 0 -0.9\n",
      "[35.0, 0.0, 0.0, 0.0, 0.0]\n",
      "[14.0, 0.0, 0.0, 0.0, 0.0]\n",
      "[7.0, 0.0, 0.0, 0.0, 0.0]\n",
      "[0.0, 0.0, 0.0, 0.0, 0.0]\n",
      "[-0.9, 0.0, 0.0, 0.0, 0.0]\n"
     ]
    }
   ],
   "source": [
    "def gera_matriz(qntd_pontos,valores_y):\n",
    "    matriz = []\n",
    "    for i in range(qntd_pontos):\n",
    "        linha = []\n",
    "        for j in range(qntd_pontos):\n",
    "            if j == 0:\n",
    "                linha.append(valores_y[i])\n",
    "            else:\n",
    "                linha.append(0.0)\n",
    "        matriz.append(linha)\n",
    "    return matriz\n",
    "\n",
    "qntd_pontos = int(input(\"Digite a quantida de pontos: \"))\n",
    "valores_y = list(map(float,input(\"Digite os valores de y: \").split()))\n",
    "matriz = gera_matriz(qntd_pontos,valores_y)\n",
    "for i in matriz:\n",
    "    print(i)"
   ]
  },
  {
   "cell_type": "markdown",
   "metadata": {},
   "source": [
    "A função acima gera a matriz com os valores de f(x) e é completa com os valores de 0\n",
    "No primeiro laço de repetição i varia de 1 até a quantidade de pontos\n",
    "no segundo laço j varia da mesma maneira de j\n",
    "\n",
    "Perceba que a primeira coluna é composta com os valores de f(x)\n",
    "A função retorna então a matriz formada com as operações anteriores."
   ]
  },
  {
   "cell_type": "code",
   "execution_count": 22,
   "metadata": {},
   "outputs": [
    {
     "name": "stdout",
     "output_type": "stream",
     "text": [
      "Digite os valores de x: -3 -1 0 2 3\n",
      "-3.0\n",
      "-1.0\n",
      "0.0\n",
      "2.0\n",
      "3.0\n"
     ]
    }
   ],
   "source": [
    "vetor_x = list(map(float,input(\"Digite os valores de x: \").split()))\n",
    "for i in vetor_x:\n",
    "    print(i)"
   ]
  },
  {
   "cell_type": "markdown",
   "metadata": {},
   "source": [
    "Vetor com os valores de x"
   ]
  },
  {
   "cell_type": "code",
   "execution_count": 24,
   "metadata": {},
   "outputs": [
    {
     "name": "stdout",
     "output_type": "stream",
     "text": [
      "[35.0, -10.5, 1.1666666666666667, 0.0, -0.012500000000000002]\n"
     ]
    }
   ],
   "source": [
    "def calcula_f(qntd_pontos,vetor_x,matriz):\n",
    "    for i in range(1,qntd_pontos): \n",
    "        for j in range(i,qntd_pontos):\n",
    "            matriz[j][i] = ( (matriz[j][i-1]-matriz[j-1][i-1]) / (vetor_x[j]-vetor_x[j-i]))\n",
    "    diagonal = list(np.diagonal(matriz))\n",
    "    return diagonal\n",
    "\n",
    "fs = calcula_f(qntd_pontos,vetor_x,matriz)\n",
    "print(fs)"
   ]
  },
  {
   "cell_type": "markdown",
   "metadata": {},
   "source": [
    "A função calcula_f que recebe a quantidade de pontos, o vetor com os pontos x e a matriz calculada na função anterior retorna "
   ]
  },
  {
   "cell_type": "code",
   "execution_count": 25,
   "metadata": {},
   "outputs": [
    {
     "name": "stdout",
     "output_type": "stream",
     "text": [
      "Informe o valor a ser interpolado: -2.7\n",
      "p(-2.700000) = 31.335899\n"
     ]
    }
   ],
   "source": [
    "def calcula_polinomio(qntd_pontos,fs,vetor_x,x):\n",
    "    grau = qntd_pontos - 1\n",
    "    p = fs[grau]\n",
    "    for k in range(1,qntd_pontos):\n",
    "        p = fs[grau-k] + (x -vetor_x[grau-k])*p\n",
    "    return p\n",
    "\n",
    "x = float(input(\"Informe o valor a ser interpolado: \"))\n",
    "p = calcula_polinomio(qntd_pontos,fs,vetor_x,x)\n",
    "print(\"p(%f) = %f\"%(x,p))"
   ]
  },
  {
   "cell_type": "markdown",
   "metadata": {},
   "source": [
    "##### A função acima calcula o polinômio a partir dos pontos x e o ponto desejado da ser interpolado\n",
    "\n",
    "Ela retorna p, que é o valor calculado a partir do polinômio gerado pelo metodo de newton"
   ]
  },
  {
   "cell_type": "markdown",
   "metadata": {},
   "source": [
    "# Conclusão\n",
    "\n",
    "* É possível concluir que os dois programas realizaram a interpolação corretamente e como segue o método e chegaram em resultados extremamente próximos."
   ]
  }
 ],
 "metadata": {
  "kernelspec": {
   "display_name": "Python 3",
   "language": "python",
   "name": "python3"
  },
  "language_info": {
   "codemirror_mode": {
    "name": "ipython",
    "version": 3
   },
   "file_extension": ".py",
   "mimetype": "text/x-python",
   "name": "python",
   "nbconvert_exporter": "python",
   "pygments_lexer": "ipython3",
   "version": "3.7.1"
  }
 },
 "nbformat": 4,
 "nbformat_minor": 2
}

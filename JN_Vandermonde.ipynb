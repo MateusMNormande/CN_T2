{
 "cells": [
  {
   "cell_type": "markdown",
   "metadata": {},
   "source": [
    "## Método de Vandermonde"
   ]
  },
  {
   "cell_type": "code",
   "execution_count": 7,
   "metadata": {},
   "outputs": [],
   "source": [
    "import numpy as np\n",
    "from numpy.linalg import inv"
   ]
  },
  {
   "cell_type": "markdown",
   "metadata": {},
   "source": [
    "#####  É importado a biblioteca numpy e um método para calcular a matriz inversa"
   ]
  },
  {
   "cell_type": "code",
   "execution_count": 17,
   "metadata": {},
   "outputs": [
    {
     "name": "stdout",
     "output_type": "stream",
     "text": [
      "Digite a quantida de pontos: 5\n",
      "Digite os valores de x: 1940 1950 1960 1970 1980\n",
      "[1.0, 1940.0, 3763600.0, 7301384000.0, 14164684960000.0]\n",
      "[1.0, 1950.0, 3802500.0, 7414875000.0, 14459006250000.0]\n",
      "[1.0, 1960.0, 3841600.0, 7529536000.0, 14757890560000.0]\n",
      "[1.0, 1970.0, 3880900.0, 7645373000.0, 15061384810000.0]\n",
      "[1.0, 1980.0, 3920400.0, 7762392000.0, 15369536160000.0]\n"
     ]
    }
   ],
   "source": [
    "def matriz_vm(tamanho,valores_x):\n",
    "    '''\n",
    "    Calcula a Matriz de Vandermonde\n",
    "    '''\n",
    "    matriz = []\n",
    "    for i in range(len(valores_x)):\n",
    "        linha = []\n",
    "        for j in range(tamanho):\n",
    "            valor = (valores_x[i])**j\n",
    "            linha.append(valor)\n",
    "        matriz.append(linha)\n",
    "    return matriz\n",
    "\n",
    "qntd_pontos = int(input(\"Digite a quantida de pontos: \")) #5\n",
    "valores_x = list(map(float,input(\"Digite os valores de x: \").split())) #1940 1950 1960 1970 1980\n",
    "A = matriz_vm(qntd_pontos,valores_x)\n",
    "A_inv = inv(np.array(A))\n",
    "\n",
    "for i in A:\n",
    "    print(i)"
   ]
  },
  {
   "cell_type": "markdown",
   "metadata": {},
   "source": [
    "#####  A partir dos valores da quantidade de pontos e dos valores de x, foi possível calcular a matriz de Vandermonde"
   ]
  },
  {
   "cell_type": "code",
   "execution_count": 18,
   "metadata": {},
   "outputs": [
    {
     "name": "stdout",
     "output_type": "stream",
     "text": [
      "Digite os valores de y: 132.165 151.326 179.323 203.302 226.542\n",
      "132.165\n",
      "151.326\n",
      "179.323\n",
      "203.302\n",
      "226.542\n"
     ]
    }
   ],
   "source": [
    "valores_y = list(map(float,input(\"Digite os valores de y: \").split())) #132.165 151.326 179.323 203.302 226.542\n",
    "b = np.array(valores_y)\n",
    "\n",
    "for i in b:\n",
    "    print(i)"
   ]
  },
  {
   "cell_type": "markdown",
   "metadata": {},
   "source": [
    "#####  Com os valores da função foi possível construir a matriz 'b'"
   ]
  },
  {
   "cell_type": "code",
   "execution_count": 10,
   "metadata": {},
   "outputs": [
    {
     "name": "stdout",
     "output_type": "stream",
     "text": [
      "p(x) = 997937571.936069 + -2033654.786175x^1 + 1554.078258x^2 + -0.527809x^3 + 0.000067x^4\n"
     ]
    }
   ],
   "source": [
    "def gera_polinomio(coeficientes):\n",
    "    '''\n",
    "    Gera a string do polinomio\n",
    "    '''\n",
    "    polinomio = \"%f + \"%coeficientes[0]\n",
    "    for i in range(1,len(coeficientes)):\n",
    "        if i == len(coeficientes)-1:\n",
    "            polinomio += \"%fx^%i\"%(coeficientes[i],i)\n",
    "        else:\n",
    "            polinomio += \"%fx^%i + \"%(coeficientes[i],i)\n",
    "    return polinomio\n",
    "\n",
    "coeficientes = list(np.dot(A_inv,b))\n",
    "polinomio = gera_polinomio(coeficientes)\n",
    "print(\"p(x) = %s\"%polinomio)"
   ]
  },
  {
   "cell_type": "markdown",
   "metadata": {},
   "source": [
    "#####  Multiplicando a inversa de 'A' por 'b', obtemos uma lista de coeficientes que podemos tranformar no polinomio"
   ]
  },
  {
   "cell_type": "code",
   "execution_count": 19,
   "metadata": {},
   "outputs": [
    {
     "name": "stdout",
     "output_type": "stream",
     "text": [
      "Digite o valor a ser interpolado: 1965\n",
      "191.98797941207886\n"
     ]
    }
   ],
   "source": [
    "def interpolacao(coeficientes, x):\n",
    "    '''\n",
    "    Calcula o valor a ser interpolado no polinomio\n",
    "    '''\n",
    "    p_x = 0\n",
    "    for i in range(len(coeficientes)):\n",
    "        p_x += coeficientes[i] * (x**i)\n",
    "    return p_x\n",
    "\n",
    "x = float(input(\"Digite o valor a ser interpolado: \")) #1965\n",
    "p = interpolacao(coeficientes,x)\n",
    "print(p)"
   ]
  },
  {
   "cell_type": "markdown",
   "metadata": {},
   "source": [
    "##### Aplicando o valor da interpolação no polinomio, calculamos o valor esperado"
   ]
  }
 ],
 "metadata": {
  "kernelspec": {
   "display_name": "Python 3",
   "language": "python",
   "name": "python3"
  },
  "language_info": {
   "codemirror_mode": {
    "name": "ipython",
    "version": 3
   },
   "file_extension": ".py",
   "mimetype": "text/x-python",
   "name": "python",
   "nbconvert_exporter": "python",
   "pygments_lexer": "ipython3",
   "version": "3.7.1"
  }
 },
 "nbformat": 4,
 "nbformat_minor": 2
}
